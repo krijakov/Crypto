{
 "cells": [
  {
   "cell_type": "code",
   "execution_count": 1,
   "metadata": {},
   "outputs": [],
   "source": [
    "import sys\n",
    "from pathlib import Path\n",
    "parent_dir = Path.cwd().parent\n",
    "sys.path.append(str(parent_dir))"
   ]
  },
  {
   "cell_type": "markdown",
   "metadata": {},
   "source": [
    "# Digital Signature, Transaction"
   ]
  },
  {
   "cell_type": "code",
   "execution_count": 2,
   "metadata": {},
   "outputs": [],
   "source": [
    "from src.digital_signature.ecc import ECC, secp256k1\n",
    "from src.blockchain.block import Transaction\n",
    "import random"
   ]
  },
  {
   "cell_type": "code",
   "execution_count": 3,
   "metadata": {},
   "outputs": [
    {
     "data": {
      "text/plain": [
       "(63635013195761682088426421276807138359963226833290839722120054901973816209081,\n",
       " (39007289515176154362395163099190455341631783864307478387062495689885957272590,\n",
       "  77402885057453232246122540030730190135796071044677735630285612154634783567412))"
      ]
     },
     "execution_count": 3,
     "metadata": {},
     "output_type": "execute_result"
    }
   ],
   "source": [
    "private_key  = random.randint(1, secp256k1.n-1)\n",
    "public_key = secp256k1.scalar_multiply(private_key, secp256k1.G)\n",
    "private_key, public_key  "
   ]
  },
  {
   "cell_type": "code",
   "execution_count": 4,
   "metadata": {},
   "outputs": [],
   "source": [
    "tx = Transaction(sender=\"Miner Micky\", receiver=\"Miner Moe\", amount=100)"
   ]
  },
  {
   "cell_type": "code",
   "execution_count": 5,
   "metadata": {},
   "outputs": [
    {
     "data": {
      "text/plain": [
       "91469887455764377586877807764597904145762171308828855680586952901254648126450"
      ]
     },
     "execution_count": 5,
     "metadata": {},
     "output_type": "execute_result"
    }
   ],
   "source": [
    "tx.hash_transaction()"
   ]
  },
  {
   "cell_type": "code",
   "execution_count": 6,
   "metadata": {},
   "outputs": [
    {
     "data": {
      "text/plain": [
       "(30969423433249862350475656607143244733969870203776263053964803768589432060797,\n",
       " 28082543860683927740058550911795349227668437432983567611550149739897776761872)"
      ]
     },
     "execution_count": 6,
     "metadata": {},
     "output_type": "execute_result"
    }
   ],
   "source": [
    "tx.sign(private_key)\n",
    "tx.signature"
   ]
  },
  {
   "cell_type": "code",
   "execution_count": 7,
   "metadata": {},
   "outputs": [
    {
     "data": {
      "text/plain": [
       "True"
      ]
     },
     "execution_count": 7,
     "metadata": {},
     "output_type": "execute_result"
    }
   ],
   "source": [
    "is_valid = tx.verify(public_key)\n",
    "is_valid"
   ]
  },
  {
   "cell_type": "markdown",
   "metadata": {},
   "source": [
    "# Block"
   ]
  },
  {
   "cell_type": "code",
   "execution_count": 8,
   "metadata": {},
   "outputs": [],
   "source": [
    "from src.blockchain.block import Block"
   ]
  },
  {
   "cell_type": "code",
   "execution_count": 9,
   "metadata": {},
   "outputs": [],
   "source": [
    "tx2 = Transaction(sender=\"Miner Mike\", receiver=\"Miner Micky\", amount=50)\n",
    "tx3 = Transaction(sender=\"Miner Mikey\", receiver=\"Miner Micky\", amount=60)\n",
    "\n",
    "our_block = Block(index=0, previous_hash=\"0\", data=[tx, tx2, tx3])"
   ]
  },
  {
   "cell_type": "code",
   "execution_count": 10,
   "metadata": {},
   "outputs": [
    {
     "data": {
      "text/plain": [
       "'88cec605d548c17ef793c6ec5c5cf2f32f056f140d6ce828321de72e08a9f4c9'"
      ]
     },
     "execution_count": 10,
     "metadata": {},
     "output_type": "execute_result"
    }
   ],
   "source": [
    "our_block.hash"
   ]
  },
  {
   "cell_type": "code",
   "execution_count": 18,
   "metadata": {},
   "outputs": [
    {
     "data": {
      "text/plain": [
       "[<src.blockchain.block.Transaction at 0x251720fa540>,\n",
       " <src.blockchain.block.Transaction at 0x251720c32f0>,\n",
       " <src.blockchain.block.Transaction at 0x251720fbbc0>]"
      ]
     },
     "execution_count": 18,
     "metadata": {},
     "output_type": "execute_result"
    }
   ],
   "source": [
    "our_block.data"
   ]
  },
  {
   "cell_type": "code",
   "execution_count": 15,
   "metadata": {},
   "outputs": [],
   "source": [
    "def hash_criterion(hash: str):\n",
    "    return hash.startswith(\"00\")"
   ]
  },
  {
   "cell_type": "code",
   "execution_count": null,
   "metadata": {},
   "outputs": [
    {
     "data": {
      "text/plain": [
       "'0045fa4a9116cad174055fa83e8e3bd6875a7289b2b5112cf737b7f3f858c451'"
      ]
     },
     "execution_count": 16,
     "metadata": {},
     "output_type": "execute_result"
    }
   ],
   "source": [
    "# PoW\n",
    "our_block.mine(hash_criterion)"
   ]
  },
  {
   "cell_type": "code",
   "execution_count": 17,
   "metadata": {},
   "outputs": [],
   "source": [
    "# Verify the transactions:\n",
    "public_key_registry = {\n",
    "    \"Miner Micky\": secp256k1.scalar_multiply(random.randint(1, secp256k1.n-1), secp256k1.G),\n",
    "    \"Miner Moe\": secp256k1.scalar_multiply(random.randint(1, secp256k1.n-1), secp256k1.G),\n",
    "    \"Miner Mike\": secp256k1.scalar_multiply(random.randint(1, secp256k1.n-1), secp256k1.G),\n",
    "    \"Miner Mikey\": secp256k1.scalar_multiply(random.randint(1, secp256k1.n-1), secp256k1.G)\n",
    "}"
   ]
  },
  {
   "cell_type": "code",
   "execution_count": null,
   "metadata": {},
   "outputs": [],
   "source": [
    "# Sign the transactions:\n",
    "tx.sign()"
   ]
  },
  {
   "cell_type": "markdown",
   "metadata": {},
   "source": [
    "# Blockchain"
   ]
  },
  {
   "cell_type": "code",
   "execution_count": 9,
   "metadata": {},
   "outputs": [],
   "source": [
    "from src.blockchain.blockchain import Blockchain"
   ]
  },
  {
   "cell_type": "code",
   "execution_count": 10,
   "metadata": {},
   "outputs": [],
   "source": [
    "our_blockchain = Blockchain(hash_criterion)"
   ]
  },
  {
   "cell_type": "code",
   "execution_count": 11,
   "metadata": {},
   "outputs": [
    {
     "data": {
      "text/plain": [
       "'Genesis Block'"
      ]
     },
     "execution_count": 11,
     "metadata": {},
     "output_type": "execute_result"
    }
   ],
   "source": [
    "our_blockchain.chain[0].data"
   ]
  },
  {
   "cell_type": "code",
   "execution_count": 12,
   "metadata": {},
   "outputs": [
    {
     "data": {
      "text/plain": [
       "<src.blockchain.block.Block at 0x18ee21001d0>"
      ]
     },
     "execution_count": 12,
     "metadata": {},
     "output_type": "execute_result"
    }
   ],
   "source": [
    "our_blockchain.add_block_PoW(data=\"The first block of many\", max_iterations=10000)"
   ]
  },
  {
   "cell_type": "code",
   "execution_count": 13,
   "metadata": {},
   "outputs": [
    {
     "data": {
      "text/plain": [
       "'The first block of many'"
      ]
     },
     "execution_count": 13,
     "metadata": {},
     "output_type": "execute_result"
    }
   ],
   "source": [
    "our_blockchain.chain[1].data"
   ]
  },
  {
   "cell_type": "markdown",
   "metadata": {},
   "source": [
    "# Node"
   ]
  },
  {
   "cell_type": "code",
   "execution_count": 14,
   "metadata": {},
   "outputs": [],
   "source": [
    "from src.blockchain.node import Node"
   ]
  },
  {
   "cell_type": "code",
   "execution_count": 15,
   "metadata": {},
   "outputs": [],
   "source": [
    "miner_node = Node(name=\"Miner Micky\", blockchain=our_blockchain)"
   ]
  },
  {
   "cell_type": "code",
   "execution_count": 16,
   "metadata": {},
   "outputs": [
    {
     "data": {
      "text/plain": [
       "'000e7017dd81e9454c02cee805d5833ee6cf520addc5dbab52932e9ea50b58e6'"
      ]
     },
     "execution_count": 16,
     "metadata": {},
     "output_type": "execute_result"
    }
   ],
   "source": [
    "miner_node.mine_block(data=\"The memoirs of Miner Micky\")"
   ]
  },
  {
   "cell_type": "markdown",
   "metadata": {},
   "source": [
    "# Network"
   ]
  },
  {
   "cell_type": "code",
   "execution_count": 17,
   "metadata": {},
   "outputs": [],
   "source": [
    "from src.blockchain.network import Network"
   ]
  },
  {
   "cell_type": "code",
   "execution_count": 18,
   "metadata": {},
   "outputs": [],
   "source": [
    "our_network = Network(blockchain=our_blockchain)"
   ]
  },
  {
   "cell_type": "code",
   "execution_count": 19,
   "metadata": {},
   "outputs": [],
   "source": [
    "our_network.add_node(\"Miner Micky\")\n",
    "our_network.add_node(\"Miner Moe\")\n",
    "our_network.add_node(\"Miner Jack\")"
   ]
  },
  {
   "cell_type": "code",
   "execution_count": 20,
   "metadata": {},
   "outputs": [
    {
     "data": {
      "text/plain": [
       "{'Miner Micky': <src.blockchain.node.Node at 0x18ee1dac6b0>,\n",
       " 'Miner Moe': <src.blockchain.node.Node at 0x18ee2109400>,\n",
       " 'Miner Jack': <src.blockchain.node.Node at 0x18ee210aae0>}"
      ]
     },
     "execution_count": 20,
     "metadata": {},
     "output_type": "execute_result"
    }
   ],
   "source": [
    "our_network.nodes"
   ]
  },
  {
   "cell_type": "code",
   "execution_count": 21,
   "metadata": {},
   "outputs": [
    {
     "name": "stdout",
     "output_type": "stream",
     "text": [
      "Starting turn-based mining...\n",
      "Miner Micky is attempting to mine...\n",
      "Miner Moe is attempting to mine...\n",
      "Miner Jack is attempting to mine...\n",
      "No node found a valid block. Restarting round...\n",
      "Miner Micky is attempting to mine...\n",
      "Miner Moe is attempting to mine...\n",
      "Miner Jack is attempting to mine...\n",
      "No node found a valid block. Restarting round...\n",
      "Miner Micky is attempting to mine...\n",
      "Miner Moe is attempting to mine...\n",
      "Miner Jack is attempting to mine...\n",
      "No node found a valid block. Restarting round...\n",
      "Miner Micky is attempting to mine...\n",
      "Miner Moe is attempting to mine...\n",
      "Miner Jack is attempting to mine...\n",
      "No node found a valid block. Restarting round...\n",
      "Miner Micky is attempting to mine...\n",
      "Miner Moe is attempting to mine...\n",
      "Miner Jack is attempting to mine...\n",
      "No node found a valid block. Restarting round...\n",
      "Miner Micky is attempting to mine...\n",
      "Miner Moe is attempting to mine...\n",
      "Miner Jack is attempting to mine...\n",
      "No node found a valid block. Restarting round...\n",
      "Miner Micky is attempting to mine...\n",
      "Miner Moe is attempting to mine...\n",
      "Miner Jack is attempting to mine...\n",
      "No node found a valid block. Restarting round...\n",
      "Miner Micky is attempting to mine...\n",
      "Miner Moe is attempting to mine...\n",
      "Miner Jack is attempting to mine...\n",
      "No node found a valid block. Restarting round...\n",
      "Miner Micky is attempting to mine...\n",
      "Miner Moe is attempting to mine...\n",
      "Miner Jack is attempting to mine...\n",
      "No node found a valid block. Restarting round...\n",
      "Miner Micky is attempting to mine...\n",
      "Miner Moe is attempting to mine...\n",
      "Miner Jack is attempting to mine...\n",
      "No node found a valid block. Restarting round...\n",
      "Miner Micky is attempting to mine...\n",
      "Miner Moe is attempting to mine...\n",
      "Miner Jack is attempting to mine...\n",
      "No node found a valid block. Restarting round...\n",
      "Miner Micky is attempting to mine...\n",
      "Miner Moe is attempting to mine...\n",
      "Miner Jack is attempting to mine...\n",
      "No node found a valid block. Restarting round...\n",
      "Miner Micky is attempting to mine...\n",
      "Miner Moe is attempting to mine...\n",
      "Miner Jack is attempting to mine...\n",
      "No node found a valid block. Restarting round...\n",
      "Miner Micky is attempting to mine...\n",
      "Miner Moe is attempting to mine...\n",
      "Miner Jack is attempting to mine...\n",
      "No node found a valid block. Restarting round...\n",
      "Miner Micky is attempting to mine...\n",
      "Miner Moe is attempting to mine...\n",
      "Miner Jack is attempting to mine...\n",
      "No node found a valid block. Restarting round...\n",
      "Miner Micky is attempting to mine...\n",
      "Miner Moe is attempting to mine...\n",
      "Miner Jack is attempting to mine...\n",
      "No node found a valid block. Restarting round...\n",
      "Miner Micky is attempting to mine...\n",
      "Miner Moe is attempting to mine...\n",
      "Miner Moe successfully mined a block: 000722ad817f62fb608fb0ed524d97dccac0df89a8272deaab052cd8451f16d3\n"
     ]
    },
    {
     "data": {
      "text/plain": [
       "'000722ad817f62fb608fb0ed524d97dccac0df89a8272deaab052cd8451f16d3'"
      ]
     },
     "execution_count": 21,
     "metadata": {},
     "output_type": "execute_result"
    }
   ],
   "source": [
    "our_network.mine_block_turn_based(data=\"This is a gem\", max_attempts_per_node=100)"
   ]
  },
  {
   "cell_type": "markdown",
   "metadata": {},
   "source": [
    "# Hashing"
   ]
  },
  {
   "cell_type": "code",
   "execution_count": 2,
   "metadata": {},
   "outputs": [],
   "source": [
    "from src.hashing.sha2 import SHA256"
   ]
  },
  {
   "cell_type": "code",
   "execution_count": 3,
   "metadata": {},
   "outputs": [
    {
     "data": {
      "text/plain": [
       "['01101011011101010111010001111001011011010111010101110100011110010110000110000000000000000000000000000000000000000000000000000000000000000000000000000000000000000000000000000000000000000000000000000000000000000000000000000000000000000000000000000000000000000000000000000000000000000000000000000000000000000000000000000000000000000000000000000000000000000000000000000000000000000000000000000000000000000000000000000000000000000000000000000000000000000000000000000000000000000000000000000000000000000000000001001000']"
      ]
     },
     "execution_count": 3,
     "metadata": {},
     "output_type": "execute_result"
    }
   ],
   "source": [
    "# SHA-256 padding:\n",
    "sample_message = \"kutymutya\"\n",
    "binary_message = SHA256.convert_to_binary_string(sample_message)\n",
    "binary_message = SHA256.add_padding(binary_message)\n",
    "blocks = SHA256.split_to_blocks(binary_message)\n",
    "blocks"
   ]
  },
  {
   "cell_type": "code",
   "execution_count": 4,
   "metadata": {},
   "outputs": [
    {
     "data": {
      "text/plain": [
       "[1779033703,\n",
       " 3144134277,\n",
       " 1013904242,\n",
       " 2773480762,\n",
       " 1359893119,\n",
       " 2600822924,\n",
       " 528734635,\n",
       " 1541459225]"
      ]
     },
     "execution_count": 4,
     "metadata": {},
     "output_type": "execute_result"
    }
   ],
   "source": [
    "SHA256.init_hash_values()"
   ]
  },
  {
   "cell_type": "code",
   "execution_count": 6,
   "metadata": {},
   "outputs": [
    {
     "data": {
      "text/plain": [
       "True"
      ]
     },
     "execution_count": 6,
     "metadata": {},
     "output_type": "execute_result"
    }
   ],
   "source": [
    "SHA256.digest(\"hello\") == '2cf24dba5fb0a30e26e83b2ac5b9e29e1b161e5c1fa7425e73043362938b9824'"
   ]
  },
  {
   "cell_type": "code",
   "execution_count": null,
   "metadata": {},
   "outputs": [],
   "source": []
  }
 ],
 "metadata": {
  "kernelspec": {
   "display_name": "crypto-env",
   "language": "python",
   "name": "python3"
  },
  "language_info": {
   "codemirror_mode": {
    "name": "ipython",
    "version": 3
   },
   "file_extension": ".py",
   "mimetype": "text/x-python",
   "name": "python",
   "nbconvert_exporter": "python",
   "pygments_lexer": "ipython3",
   "version": "3.12.3"
  }
 },
 "nbformat": 4,
 "nbformat_minor": 2
}
