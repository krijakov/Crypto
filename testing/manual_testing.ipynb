{
 "cells": [
  {
   "cell_type": "code",
   "execution_count": 1,
   "metadata": {},
   "outputs": [],
   "source": [
    "import sys\n",
    "from pathlib import Path\n",
    "parent_dir = Path.cwd().parent\n",
    "sys.path.append(str(parent_dir))"
   ]
  },
  {
   "cell_type": "markdown",
   "metadata": {},
   "source": [
    "# Digital Signature, Transaction"
   ]
  },
  {
   "cell_type": "code",
   "execution_count": null,
   "metadata": {},
   "outputs": [],
   "source": [
    "from src.digital_signature.ecc import secp256k1 # NOTE: There are automated tests for this module\n",
    "from src.blockchain.block import Transaction\n",
    "import random"
   ]
  },
  {
   "cell_type": "code",
   "execution_count": 3,
   "metadata": {},
   "outputs": [
    {
     "data": {
      "text/plain": [
       "(81887582542687856176065109036894280514370813961086777460981828027979094873831,\n",
       " (82656216790249264661209255248079511074180901952758679129451597651865710098962,\n",
       "  334414800223850064553906847647671735838214391190049804644380619439251544653))"
      ]
     },
     "execution_count": 3,
     "metadata": {},
     "output_type": "execute_result"
    }
   ],
   "source": [
    "private_key  = random.randint(1, secp256k1.n-1)\n",
    "public_key = secp256k1.scalar_multiply(private_key, secp256k1.G)\n",
    "private_key, public_key  "
   ]
  },
  {
   "cell_type": "code",
   "execution_count": 4,
   "metadata": {},
   "outputs": [],
   "source": [
    "tx = Transaction(sender=\"Miner Micky\", receiver=\"Miner Moe\", amount=100)"
   ]
  },
  {
   "cell_type": "code",
   "execution_count": 5,
   "metadata": {},
   "outputs": [
    {
     "data": {
      "text/plain": [
       "91469887455764377586877807764597904145762171308828855680586952901254648126450"
      ]
     },
     "execution_count": 5,
     "metadata": {},
     "output_type": "execute_result"
    }
   ],
   "source": [
    "tx.hash_transaction()"
   ]
  },
  {
   "cell_type": "code",
   "execution_count": 6,
   "metadata": {},
   "outputs": [
    {
     "data": {
      "text/plain": [
       "(40399957570093825966803356468860600440685294084868110689532086954465302911264,\n",
       " 97664644634066426596605947201771500567158417885312160533335701209264856945983)"
      ]
     },
     "execution_count": 6,
     "metadata": {},
     "output_type": "execute_result"
    }
   ],
   "source": [
    "tx.sign(private_key)\n",
    "tx.signature"
   ]
  },
  {
   "cell_type": "code",
   "execution_count": 7,
   "metadata": {},
   "outputs": [
    {
     "data": {
      "text/plain": [
       "True"
      ]
     },
     "execution_count": 7,
     "metadata": {},
     "output_type": "execute_result"
    }
   ],
   "source": [
    "is_valid = tx.verify(public_key)\n",
    "is_valid"
   ]
  },
  {
   "cell_type": "markdown",
   "metadata": {},
   "source": [
    "# Block"
   ]
  },
  {
   "cell_type": "code",
   "execution_count": 8,
   "metadata": {},
   "outputs": [],
   "source": [
    "from src.blockchain.block import Block"
   ]
  },
  {
   "cell_type": "code",
   "execution_count": 9,
   "metadata": {},
   "outputs": [],
   "source": [
    "tx2 = Transaction(sender=\"Miner Mike\", receiver=\"Miner Micky\", amount=50)\n",
    "tx3 = Transaction(sender=\"Miner Mikey\", receiver=\"Miner Micky\", amount=60)\n",
    "\n",
    "our_block = Block(index=0, previous_hash=\"0\", data=[tx, tx2, tx3])"
   ]
  },
  {
   "cell_type": "code",
   "execution_count": 10,
   "metadata": {},
   "outputs": [
    {
     "data": {
      "text/plain": [
       "'b83fa86a7ba0877fa51f44e2780ab3400bf006ecc3348e0f09c37cf9edcbbc39'"
      ]
     },
     "execution_count": 10,
     "metadata": {},
     "output_type": "execute_result"
    }
   ],
   "source": [
    "our_block.hash"
   ]
  },
  {
   "cell_type": "code",
   "execution_count": 11,
   "metadata": {},
   "outputs": [
    {
     "data": {
      "text/plain": [
       "[<src.blockchain.block.Transaction at 0x18c06bcb8f0>,\n",
       " <src.blockchain.block.Transaction at 0x18c06bcbd40>,\n",
       " <src.blockchain.block.Transaction at 0x18c06bcb590>]"
      ]
     },
     "execution_count": 11,
     "metadata": {},
     "output_type": "execute_result"
    }
   ],
   "source": [
    "our_block.data"
   ]
  },
  {
   "cell_type": "code",
   "execution_count": 12,
   "metadata": {},
   "outputs": [],
   "source": [
    "def hash_criterion(hash: str):\n",
    "    return hash.startswith(\"00\")"
   ]
  },
  {
   "cell_type": "code",
   "execution_count": 13,
   "metadata": {},
   "outputs": [
    {
     "data": {
      "text/plain": [
       "'0047692198739e72807048cccede01262c722f2ab18b3cb01d089385e9f30e0f'"
      ]
     },
     "execution_count": 13,
     "metadata": {},
     "output_type": "execute_result"
    }
   ],
   "source": [
    "# PoW\n",
    "our_block.mine(hash_criterion)"
   ]
  },
  {
   "cell_type": "markdown",
   "metadata": {},
   "source": [
    "# Blockchain"
   ]
  },
  {
   "cell_type": "code",
   "execution_count": 14,
   "metadata": {},
   "outputs": [],
   "source": [
    "from src.blockchain.blockchain import Blockchain"
   ]
  },
  {
   "cell_type": "code",
   "execution_count": 15,
   "metadata": {},
   "outputs": [],
   "source": [
    "our_blockchain = Blockchain(hash_criterion)"
   ]
  },
  {
   "cell_type": "code",
   "execution_count": 16,
   "metadata": {},
   "outputs": [
    {
     "data": {
      "text/plain": [
       "[]"
      ]
     },
     "execution_count": 16,
     "metadata": {},
     "output_type": "execute_result"
    }
   ],
   "source": [
    "# Genesis block:\n",
    "our_blockchain.chain[0].data"
   ]
  },
  {
   "cell_type": "markdown",
   "metadata": {},
   "source": [
    "# Network"
   ]
  },
  {
   "cell_type": "code",
   "execution_count": 17,
   "metadata": {},
   "outputs": [],
   "source": [
    "from src.blockchain.network import Network"
   ]
  },
  {
   "cell_type": "code",
   "execution_count": 18,
   "metadata": {},
   "outputs": [],
   "source": [
    "our_network = Network(blockchain=our_blockchain)"
   ]
  },
  {
   "cell_type": "code",
   "execution_count": 19,
   "metadata": {},
   "outputs": [],
   "source": [
    "our_network.add_node(\"Miner Micky\")\n",
    "our_network.add_node(\"Miner Moe\")\n",
    "our_network.add_node(\"Miner Jack\")"
   ]
  },
  {
   "cell_type": "code",
   "execution_count": 20,
   "metadata": {},
   "outputs": [
    {
     "data": {
      "text/plain": [
       "{'Miner Micky': <src.blockchain.node.Node at 0x18c06b972c0>,\n",
       " 'Miner Moe': <src.blockchain.node.Node at 0x18c06bcad80>,\n",
       " 'Miner Jack': <src.blockchain.node.Node at 0x18c06bea420>}"
      ]
     },
     "execution_count": 20,
     "metadata": {},
     "output_type": "execute_result"
    }
   ],
   "source": [
    "our_network.nodes"
   ]
  },
  {
   "cell_type": "code",
   "execution_count": 21,
   "metadata": {},
   "outputs": [
    {
     "data": {
      "text/plain": [
       "{'Miner Micky': (41622633588637395064837534632899103177563255021810681339942519219329431454502,\n",
       "  11339119106049453601251128794006752414275810446194026569494748432985708591532),\n",
       " 'Miner Moe': (39404460190203425395014273408697332962575588123573101922508858119537741014037,\n",
       "  66668214048429706225999017230721584943820025352067835298249834981604891742727),\n",
       " 'Miner Jack': (104063203318913841572802214968800797595460737852747763654634590208507961887739,\n",
       "  74392400257205263102671162614944821931143060614409424705746814185051811570221)}"
      ]
     },
     "execution_count": 21,
     "metadata": {},
     "output_type": "execute_result"
    }
   ],
   "source": [
    "our_network.public_keys"
   ]
  },
  {
   "cell_type": "code",
   "execution_count": 22,
   "metadata": {},
   "outputs": [
    {
     "name": "stdout",
     "output_type": "stream",
     "text": [
      "Starting turn-based mining...\n",
      "Miner Micky is attempting to mine...\n",
      "Miner Moe is attempting to mine...\n",
      "Miner Jack is attempting to mine...\n",
      "No node found a valid block. Restarting round...\n",
      "Miner Micky is attempting to mine...\n",
      "Miner Moe is attempting to mine...\n",
      "Miner Jack is attempting to mine...\n",
      "No node found a valid block. Restarting round...\n",
      "Miner Micky is attempting to mine...\n",
      "Miner Moe is attempting to mine...\n",
      "Miner Moe successfully mined a block: 00cd72896f7a7a48a0e09e790ab2f3ec94b312b66a6b47965ae6775cc53a3be4\n",
      "Miner Moe received a mining reward of 10\n"
     ]
    },
    {
     "data": {
      "text/plain": [
       "<src.blockchain.block.Block at 0x18c06bcd1c0>"
      ]
     },
     "execution_count": 22,
     "metadata": {},
     "output_type": "execute_result"
    }
   ],
   "source": [
    "our_network.mine_block_turn_based(block=our_block, max_attempts_per_node=100)"
   ]
  },
  {
   "cell_type": "code",
   "execution_count": 28,
   "metadata": {},
   "outputs": [
    {
     "name": "stdout",
     "output_type": "stream",
     "text": [
      "Blockchain valid: True\n",
      "Last added block signed by: Miner Moe\n",
      "Proof of work direct check: True\n",
      "Is last block finalized: True\n"
     ]
    }
   ],
   "source": [
    "# Checks\n",
    "print(f\"Blockchain valid: {our_blockchain.validate_chain(our_network.public_keys)}\")\n",
    "print(f\"Last added block signed by: {our_blockchain.chain[-1].signed_by}\")\n",
    "print(f\"Proof of work direct check: {hash_criterion(our_blockchain.chain[-1].hash)}\")\n",
    "print(f\"Is last block finalized: {our_blockchain.chain[-1].finalized}\")"
   ]
  },
  {
   "cell_type": "markdown",
   "metadata": {},
   "source": [
    "# Hashing"
   ]
  },
  {
   "cell_type": "code",
   "execution_count": null,
   "metadata": {},
   "outputs": [],
   "source": [
    "# NOTE: there are automated tests for this\n",
    "from src.hashing.sha2 import SHA256"
   ]
  },
  {
   "cell_type": "code",
   "execution_count": 25,
   "metadata": {},
   "outputs": [
    {
     "data": {
      "text/plain": [
       "['01101011011101010111010001111001011011010111010101110100011110010110000110000000000000000000000000000000000000000000000000000000000000000000000000000000000000000000000000000000000000000000000000000000000000000000000000000000000000000000000000000000000000000000000000000000000000000000000000000000000000000000000000000000000000000000000000000000000000000000000000000000000000000000000000000000000000000000000000000000000000000000000000000000000000000000000000000000000000000000000000000000000000000000000001001000']"
      ]
     },
     "execution_count": 25,
     "metadata": {},
     "output_type": "execute_result"
    }
   ],
   "source": [
    "# SHA-256 padding:\n",
    "sample_message = \"kutymutya\"\n",
    "binary_message = SHA256.convert_to_binary_string(sample_message)\n",
    "binary_message = SHA256.add_padding(binary_message)\n",
    "blocks = SHA256.split_to_blocks(binary_message)\n",
    "blocks"
   ]
  },
  {
   "cell_type": "code",
   "execution_count": 27,
   "metadata": {},
   "outputs": [
    {
     "data": {
      "text/plain": [
       "True"
      ]
     },
     "execution_count": 27,
     "metadata": {},
     "output_type": "execute_result"
    }
   ],
   "source": [
    "SHA256.digest(\"hello\") == '2cf24dba5fb0a30e26e83b2ac5b9e29e1b161e5c1fa7425e73043362938b9824'"
   ]
  },
  {
   "cell_type": "code",
   "execution_count": null,
   "metadata": {},
   "outputs": [],
   "source": []
  }
 ],
 "metadata": {
  "kernelspec": {
   "display_name": "crypto-env",
   "language": "python",
   "name": "python3"
  },
  "language_info": {
   "codemirror_mode": {
    "name": "ipython",
    "version": 3
   },
   "file_extension": ".py",
   "mimetype": "text/x-python",
   "name": "python",
   "nbconvert_exporter": "python",
   "pygments_lexer": "ipython3",
   "version": "3.12.3"
  }
 },
 "nbformat": 4,
 "nbformat_minor": 2
}
